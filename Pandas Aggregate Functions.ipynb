{
 "cells": [
  {
   "cell_type": "code",
   "execution_count": 2,
   "id": "9144746b",
   "metadata": {},
   "outputs": [],
   "source": [
    "import pandas as pd"
   ]
  },
  {
   "cell_type": "code",
   "execution_count": 3,
   "id": "2a0a32ea",
   "metadata": {},
   "outputs": [
    {
     "data": {
      "text/html": [
       "<div>\n",
       "<style scoped>\n",
       "    .dataframe tbody tr th:only-of-type {\n",
       "        vertical-align: middle;\n",
       "    }\n",
       "\n",
       "    .dataframe tbody tr th {\n",
       "        vertical-align: top;\n",
       "    }\n",
       "\n",
       "    .dataframe thead th {\n",
       "        text-align: right;\n",
       "    }\n",
       "</style>\n",
       "<table border=\"1\" class=\"dataframe\">\n",
       "  <thead>\n",
       "    <tr style=\"text-align: right;\">\n",
       "      <th></th>\n",
       "      <th>emp_no</th>\n",
       "      <th>emp_name</th>\n",
       "      <th>job</th>\n",
       "      <th>salary</th>\n",
       "    </tr>\n",
       "  </thead>\n",
       "  <tbody>\n",
       "    <tr>\n",
       "      <th>0</th>\n",
       "      <td>1</td>\n",
       "      <td>ravi</td>\n",
       "      <td>Developer</td>\n",
       "      <td>1200</td>\n",
       "    </tr>\n",
       "    <tr>\n",
       "      <th>1</th>\n",
       "      <td>2</td>\n",
       "      <td>kiran</td>\n",
       "      <td>Tester</td>\n",
       "      <td>999</td>\n",
       "    </tr>\n",
       "    <tr>\n",
       "      <th>2</th>\n",
       "      <td>3</td>\n",
       "      <td>srilu</td>\n",
       "      <td>DevOps</td>\n",
       "      <td>1000</td>\n",
       "    </tr>\n",
       "    <tr>\n",
       "      <th>3</th>\n",
       "      <td>4</td>\n",
       "      <td>sanjana</td>\n",
       "      <td>Frontend</td>\n",
       "      <td>899</td>\n",
       "    </tr>\n",
       "    <tr>\n",
       "      <th>4</th>\n",
       "      <td>5</td>\n",
       "      <td>neha</td>\n",
       "      <td>Backend</td>\n",
       "      <td>999</td>\n",
       "    </tr>\n",
       "    <tr>\n",
       "      <th>5</th>\n",
       "      <td>6</td>\n",
       "      <td>bhavana</td>\n",
       "      <td>Fullstack</td>\n",
       "      <td>99</td>\n",
       "    </tr>\n",
       "    <tr>\n",
       "      <th>6</th>\n",
       "      <td>7</td>\n",
       "      <td>basu</td>\n",
       "      <td>Tester</td>\n",
       "      <td>800</td>\n",
       "    </tr>\n",
       "    <tr>\n",
       "      <th>7</th>\n",
       "      <td>8</td>\n",
       "      <td>subbu</td>\n",
       "      <td>Tester</td>\n",
       "      <td>890</td>\n",
       "    </tr>\n",
       "  </tbody>\n",
       "</table>\n",
       "</div>"
      ],
      "text/plain": [
       "   emp_no emp_name        job  salary\n",
       "0       1     ravi  Developer    1200\n",
       "1       2    kiran     Tester     999\n",
       "2       3    srilu     DevOps    1000\n",
       "3       4  sanjana   Frontend     899\n",
       "4       5     neha    Backend     999\n",
       "5       6  bhavana  Fullstack      99\n",
       "6       7     basu     Tester     800\n",
       "7       8    subbu     Tester     890"
      ]
     },
     "execution_count": 3,
     "metadata": {},
     "output_type": "execute_result"
    }
   ],
   "source": [
    "df7=pd.DataFrame(\n",
    "    {\n",
    "        'emp_no':[1,2,3,4,5,6,7,8],\n",
    "        'emp_name':['ravi','kiran','srilu','sanjana','neha','bhavana','basu','subbu'],\n",
    "        'job':['Developer','Tester','DevOps','Frontend','Backend','Fullstack','Tester','Tester'],\n",
    "        'salary':[1200,999,1000,899,999,99,800,890]\n",
    "    }\n",
    "    \n",
    ")\n",
    "df7"
   ]
  },
  {
   "cell_type": "code",
   "execution_count": 4,
   "id": "479378e5",
   "metadata": {},
   "outputs": [
    {
     "data": {
      "text/plain": [
       "6886"
      ]
     },
     "execution_count": 4,
     "metadata": {},
     "output_type": "execute_result"
    }
   ],
   "source": [
    "df7['salary'].sum()"
   ]
  },
  {
   "cell_type": "code",
   "execution_count": 5,
   "id": "9d40a7c5",
   "metadata": {},
   "outputs": [
    {
     "data": {
      "text/plain": [
       "99"
      ]
     },
     "execution_count": 5,
     "metadata": {},
     "output_type": "execute_result"
    }
   ],
   "source": [
    "df7['salary'].min()"
   ]
  },
  {
   "cell_type": "code",
   "execution_count": 6,
   "id": "59beb430",
   "metadata": {},
   "outputs": [
    {
     "data": {
      "text/plain": [
       "1200"
      ]
     },
     "execution_count": 6,
     "metadata": {},
     "output_type": "execute_result"
    }
   ],
   "source": [
    "df7['salary'].max()"
   ]
  },
  {
   "cell_type": "code",
   "execution_count": 7,
   "id": "708495ce",
   "metadata": {},
   "outputs": [
    {
     "data": {
      "text/plain": [
       "329.28049267629393"
      ]
     },
     "execution_count": 7,
     "metadata": {},
     "output_type": "execute_result"
    }
   ],
   "source": [
    "df7['salary'].std()"
   ]
  },
  {
   "cell_type": "code",
   "execution_count": 8,
   "id": "3bbfcc2b",
   "metadata": {},
   "outputs": [
    {
     "data": {
      "text/plain": [
       "860.75"
      ]
     },
     "execution_count": 8,
     "metadata": {},
     "output_type": "execute_result"
    }
   ],
   "source": [
    "df7['salary'].mean()"
   ]
  },
  {
   "cell_type": "code",
   "execution_count": 9,
   "id": "07da2b45",
   "metadata": {},
   "outputs": [
    {
     "data": {
      "text/plain": [
       "count       8.000000\n",
       "mean      860.750000\n",
       "std       329.280493\n",
       "min        99.000000\n",
       "25%       867.500000\n",
       "50%       949.000000\n",
       "75%       999.250000\n",
       "max      1200.000000\n",
       "Name: salary, dtype: float64"
      ]
     },
     "execution_count": 9,
     "metadata": {},
     "output_type": "execute_result"
    }
   ],
   "source": [
    "df7['salary'].describe()"
   ]
  },
  {
   "cell_type": "code",
   "execution_count": 10,
   "id": "55ba72cd",
   "metadata": {},
   "outputs": [
    {
     "data": {
      "text/plain": [
       "0    1200\n",
       "1    2199\n",
       "2    3199\n",
       "3    4098\n",
       "4    5097\n",
       "5    5196\n",
       "6    5996\n",
       "7    6886\n",
       "Name: salary, dtype: int64"
      ]
     },
     "execution_count": 10,
     "metadata": {},
     "output_type": "execute_result"
    }
   ],
   "source": [
    "df7['salary'].cumsum()"
   ]
  },
  {
   "cell_type": "code",
   "execution_count": null,
   "id": "a8f0797e",
   "metadata": {},
   "outputs": [],
   "source": []
  }
 ],
 "metadata": {
  "kernelspec": {
   "display_name": "Python 3 (ipykernel)",
   "language": "python",
   "name": "python3"
  },
  "language_info": {
   "codemirror_mode": {
    "name": "ipython",
    "version": 3
   },
   "file_extension": ".py",
   "mimetype": "text/x-python",
   "name": "python",
   "nbconvert_exporter": "python",
   "pygments_lexer": "ipython3",
   "version": "3.11.5"
  }
 },
 "nbformat": 4,
 "nbformat_minor": 5
}
