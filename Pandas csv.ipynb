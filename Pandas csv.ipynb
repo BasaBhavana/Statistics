{
 "cells": [
  {
   "cell_type": "code",
   "execution_count": 1,
   "id": "f5471a6b",
   "metadata": {},
   "outputs": [],
   "source": [
    "#csv comma separated values"
   ]
  },
  {
   "cell_type": "code",
   "execution_count": 4,
   "id": "d3a1d49a",
   "metadata": {},
   "outputs": [],
   "source": [
    "import pandas as pd"
   ]
  },
  {
   "cell_type": "code",
   "execution_count": 5,
   "id": "aded53d9",
   "metadata": {},
   "outputs": [],
   "source": [
    "#uploading the csv file\n"
   ]
  },
  {
   "cell_type": "code",
   "execution_count": 7,
   "id": "22c2ea47",
   "metadata": {},
   "outputs": [],
   "source": [
    "data1=pd.read_csv('C:/Users/bhava/Downloads/edata.csv')"
   ]
  },
  {
   "cell_type": "code",
   "execution_count": 8,
   "id": "9e2c5400",
   "metadata": {},
   "outputs": [
    {
     "data": {
      "text/html": [
       "<div>\n",
       "<style scoped>\n",
       "    .dataframe tbody tr th:only-of-type {\n",
       "        vertical-align: middle;\n",
       "    }\n",
       "\n",
       "    .dataframe tbody tr th {\n",
       "        vertical-align: top;\n",
       "    }\n",
       "\n",
       "    .dataframe thead th {\n",
       "        text-align: right;\n",
       "    }\n",
       "</style>\n",
       "<table border=\"1\" class=\"dataframe\">\n",
       "  <thead>\n",
       "    <tr style=\"text-align: right;\">\n",
       "      <th></th>\n",
       "      <th>empno</th>\n",
       "      <th>ename</th>\n",
       "      <th>job</th>\n",
       "      <th>sal</th>\n",
       "      <th>deptno</th>\n",
       "    </tr>\n",
       "  </thead>\n",
       "  <tbody>\n",
       "    <tr>\n",
       "      <th>0</th>\n",
       "      <td>1001</td>\n",
       "      <td>raju</td>\n",
       "      <td>dev</td>\n",
       "      <td>1200</td>\n",
       "      <td>10.0</td>\n",
       "    </tr>\n",
       "    <tr>\n",
       "      <th>1</th>\n",
       "      <td>102</td>\n",
       "      <td>ravi</td>\n",
       "      <td>test</td>\n",
       "      <td>1000</td>\n",
       "      <td>20.0</td>\n",
       "    </tr>\n",
       "    <tr>\n",
       "      <th>2</th>\n",
       "      <td>103</td>\n",
       "      <td>kumar</td>\n",
       "      <td>sales</td>\n",
       "      <td>1500</td>\n",
       "      <td>30.0</td>\n",
       "    </tr>\n",
       "    <tr>\n",
       "      <th>3</th>\n",
       "      <td>1004</td>\n",
       "      <td>venkat</td>\n",
       "      <td>sales</td>\n",
       "      <td>1600</td>\n",
       "      <td>30.0</td>\n",
       "    </tr>\n",
       "    <tr>\n",
       "      <th>4</th>\n",
       "      <td>1005</td>\n",
       "      <td>suri</td>\n",
       "      <td>test</td>\n",
       "      <td>1200</td>\n",
       "      <td>NaN</td>\n",
       "    </tr>\n",
       "    <tr>\n",
       "      <th>5</th>\n",
       "      <td>1006</td>\n",
       "      <td>hari</td>\n",
       "      <td>Dev</td>\n",
       "      <td>2300</td>\n",
       "      <td>20.0</td>\n",
       "    </tr>\n",
       "    <tr>\n",
       "      <th>6</th>\n",
       "      <td>1007</td>\n",
       "      <td>koti</td>\n",
       "      <td>dev</td>\n",
       "      <td>1900</td>\n",
       "      <td>10.0</td>\n",
       "    </tr>\n",
       "    <tr>\n",
       "      <th>7</th>\n",
       "      <td>1008</td>\n",
       "      <td>varma</td>\n",
       "      <td>test</td>\n",
       "      <td>2100</td>\n",
       "      <td>10.0</td>\n",
       "    </tr>\n",
       "  </tbody>\n",
       "</table>\n",
       "</div>"
      ],
      "text/plain": [
       "   empno   ename    job   sal  deptno\n",
       "0   1001    raju    dev  1200    10.0\n",
       "1    102    ravi   test  1000    20.0\n",
       "2    103   kumar  sales  1500    30.0\n",
       "3   1004  venkat  sales  1600    30.0\n",
       "4   1005    suri   test  1200     NaN\n",
       "5   1006    hari    Dev  2300    20.0\n",
       "6   1007    koti    dev  1900    10.0\n",
       "7   1008   varma   test  2100    10.0"
      ]
     },
     "execution_count": 8,
     "metadata": {},
     "output_type": "execute_result"
    }
   ],
   "source": [
    "data\n",
    "\n",
    "#csv data"
   ]
  },
  {
   "cell_type": "code",
   "execution_count": 9,
   "id": "aa7e965e",
   "metadata": {},
   "outputs": [],
   "source": [
    "data2=pd.read_csv(\"C:/Users/bhava/Downloads/edata2.csv\")"
   ]
  },
  {
   "cell_type": "code",
   "execution_count": 10,
   "id": "f29ba2a9",
   "metadata": {},
   "outputs": [
    {
     "data": {
      "text/html": [
       "<div>\n",
       "<style scoped>\n",
       "    .dataframe tbody tr th:only-of-type {\n",
       "        vertical-align: middle;\n",
       "    }\n",
       "\n",
       "    .dataframe tbody tr th {\n",
       "        vertical-align: top;\n",
       "    }\n",
       "\n",
       "    .dataframe thead th {\n",
       "        text-align: right;\n",
       "    }\n",
       "</style>\n",
       "<table border=\"1\" class=\"dataframe\">\n",
       "  <thead>\n",
       "    <tr style=\"text-align: right;\">\n",
       "      <th></th>\n",
       "      <th>empno#ename#job#sal#deptno</th>\n",
       "    </tr>\n",
       "  </thead>\n",
       "  <tbody>\n",
       "    <tr>\n",
       "      <th>0</th>\n",
       "      <td>1001#raju#dev#1200#10</td>\n",
       "    </tr>\n",
       "    <tr>\n",
       "      <th>1</th>\n",
       "      <td>102#ravi#test#1000#20</td>\n",
       "    </tr>\n",
       "    <tr>\n",
       "      <th>2</th>\n",
       "      <td>103#kumar#sales#1500#30</td>\n",
       "    </tr>\n",
       "    <tr>\n",
       "      <th>3</th>\n",
       "      <td>1004#venkat#sales#1600#30</td>\n",
       "    </tr>\n",
       "    <tr>\n",
       "      <th>4</th>\n",
       "      <td>1005#suri#test#1200#NA</td>\n",
       "    </tr>\n",
       "    <tr>\n",
       "      <th>5</th>\n",
       "      <td>1006#hari#dev#1700#20</td>\n",
       "    </tr>\n",
       "  </tbody>\n",
       "</table>\n",
       "</div>"
      ],
      "text/plain": [
       "  empno#ename#job#sal#deptno\n",
       "0      1001#raju#dev#1200#10\n",
       "1      102#ravi#test#1000#20\n",
       "2    103#kumar#sales#1500#30\n",
       "3  1004#venkat#sales#1600#30\n",
       "4     1005#suri#test#1200#NA\n",
       "5      1006#hari#dev#1700#20"
      ]
     },
     "execution_count": 10,
     "metadata": {},
     "output_type": "execute_result"
    }
   ],
   "source": [
    "data2"
   ]
  },
  {
   "cell_type": "code",
   "execution_count": 11,
   "id": "f4f63583",
   "metadata": {},
   "outputs": [],
   "source": [
    "#the above data is of # separated values\n",
    "#to convert this into normal data the below code is written"
   ]
  },
  {
   "cell_type": "code",
   "execution_count": 13,
   "id": "fc1a75e5",
   "metadata": {},
   "outputs": [
    {
     "data": {
      "text/html": [
       "<div>\n",
       "<style scoped>\n",
       "    .dataframe tbody tr th:only-of-type {\n",
       "        vertical-align: middle;\n",
       "    }\n",
       "\n",
       "    .dataframe tbody tr th {\n",
       "        vertical-align: top;\n",
       "    }\n",
       "\n",
       "    .dataframe thead th {\n",
       "        text-align: right;\n",
       "    }\n",
       "</style>\n",
       "<table border=\"1\" class=\"dataframe\">\n",
       "  <thead>\n",
       "    <tr style=\"text-align: right;\">\n",
       "      <th></th>\n",
       "      <th>empno</th>\n",
       "      <th>ename</th>\n",
       "      <th>job</th>\n",
       "      <th>sal</th>\n",
       "      <th>deptno</th>\n",
       "    </tr>\n",
       "  </thead>\n",
       "  <tbody>\n",
       "    <tr>\n",
       "      <th>0</th>\n",
       "      <td>1001</td>\n",
       "      <td>raju</td>\n",
       "      <td>dev</td>\n",
       "      <td>1200</td>\n",
       "      <td>10.0</td>\n",
       "    </tr>\n",
       "    <tr>\n",
       "      <th>1</th>\n",
       "      <td>102</td>\n",
       "      <td>ravi</td>\n",
       "      <td>test</td>\n",
       "      <td>1000</td>\n",
       "      <td>20.0</td>\n",
       "    </tr>\n",
       "    <tr>\n",
       "      <th>2</th>\n",
       "      <td>103</td>\n",
       "      <td>kumar</td>\n",
       "      <td>sales</td>\n",
       "      <td>1500</td>\n",
       "      <td>30.0</td>\n",
       "    </tr>\n",
       "    <tr>\n",
       "      <th>3</th>\n",
       "      <td>1004</td>\n",
       "      <td>venkat</td>\n",
       "      <td>sales</td>\n",
       "      <td>1600</td>\n",
       "      <td>30.0</td>\n",
       "    </tr>\n",
       "    <tr>\n",
       "      <th>4</th>\n",
       "      <td>1005</td>\n",
       "      <td>suri</td>\n",
       "      <td>test</td>\n",
       "      <td>1200</td>\n",
       "      <td>NaN</td>\n",
       "    </tr>\n",
       "    <tr>\n",
       "      <th>5</th>\n",
       "      <td>1006</td>\n",
       "      <td>hari</td>\n",
       "      <td>dev</td>\n",
       "      <td>1700</td>\n",
       "      <td>20.0</td>\n",
       "    </tr>\n",
       "  </tbody>\n",
       "</table>\n",
       "</div>"
      ],
      "text/plain": [
       "   empno   ename    job   sal  deptno\n",
       "0   1001    raju    dev  1200    10.0\n",
       "1    102    ravi   test  1000    20.0\n",
       "2    103   kumar  sales  1500    30.0\n",
       "3   1004  venkat  sales  1600    30.0\n",
       "4   1005    suri   test  1200     NaN\n",
       "5   1006    hari    dev  1700    20.0"
      ]
     },
     "execution_count": 13,
     "metadata": {},
     "output_type": "execute_result"
    }
   ],
   "source": [
    "data3=pd.read_csv('C:/Users/bhava/Downloads/edata2.csv',delimiter='#')\n",
    "data3"
   ]
  },
  {
   "cell_type": "code",
   "execution_count": 14,
   "id": "62c8c6c9",
   "metadata": {},
   "outputs": [
    {
     "data": {
      "text/plain": [
       "(6, 5)"
      ]
     },
     "execution_count": 14,
     "metadata": {},
     "output_type": "execute_result"
    }
   ],
   "source": [
    "data3.shape"
   ]
  },
  {
   "cell_type": "code",
   "execution_count": 15,
   "id": "2305b696",
   "metadata": {},
   "outputs": [
    {
     "name": "stdout",
     "output_type": "stream",
     "text": [
      "<class 'pandas.core.frame.DataFrame'>\n",
      "RangeIndex: 6 entries, 0 to 5\n",
      "Data columns (total 5 columns):\n",
      " #   Column  Non-Null Count  Dtype  \n",
      "---  ------  --------------  -----  \n",
      " 0   empno   6 non-null      int64  \n",
      " 1   ename   6 non-null      object \n",
      " 2   job     6 non-null      object \n",
      " 3   sal     6 non-null      int64  \n",
      " 4   deptno  5 non-null      float64\n",
      "dtypes: float64(1), int64(2), object(2)\n",
      "memory usage: 372.0+ bytes\n"
     ]
    }
   ],
   "source": [
    "data3.info()"
   ]
  },
  {
   "cell_type": "code",
   "execution_count": 16,
   "id": "17601981",
   "metadata": {},
   "outputs": [
    {
     "data": {
      "text/plain": [
       "RangeIndex(start=0, stop=6, step=1)"
      ]
     },
     "execution_count": 16,
     "metadata": {},
     "output_type": "execute_result"
    }
   ],
   "source": [
    "data3.index"
   ]
  },
  {
   "cell_type": "code",
   "execution_count": 17,
   "id": "eced744a",
   "metadata": {},
   "outputs": [
    {
     "data": {
      "text/plain": [
       "empno       int64\n",
       "ename      object\n",
       "job        object\n",
       "sal         int64\n",
       "deptno    float64\n",
       "dtype: object"
      ]
     },
     "execution_count": 17,
     "metadata": {},
     "output_type": "execute_result"
    }
   ],
   "source": [
    "data3.dtypes"
   ]
  },
  {
   "cell_type": "code",
   "execution_count": 19,
   "id": "9053184f",
   "metadata": {},
   "outputs": [
    {
     "data": {
      "text/plain": [
       "Index(['empno', 'ename', 'job', 'sal', 'deptno'], dtype='object')"
      ]
     },
     "execution_count": 19,
     "metadata": {},
     "output_type": "execute_result"
    }
   ],
   "source": [
    "data3.columns"
   ]
  },
  {
   "cell_type": "code",
   "execution_count": 20,
   "id": "82383301",
   "metadata": {},
   "outputs": [
    {
     "data": {
      "text/plain": [
       "empno     1001\n",
       "ename     raju\n",
       "job        dev\n",
       "sal       1200\n",
       "deptno    10.0\n",
       "Name: 0, dtype: object"
      ]
     },
     "execution_count": 20,
     "metadata": {},
     "output_type": "execute_result"
    }
   ],
   "source": [
    "data.loc[0]"
   ]
  },
  {
   "cell_type": "code",
   "execution_count": 21,
   "id": "70818e60",
   "metadata": {},
   "outputs": [
    {
     "data": {
      "text/plain": [
       "'test'"
      ]
     },
     "execution_count": 21,
     "metadata": {},
     "output_type": "execute_result"
    }
   ],
   "source": [
    "data3.iloc[1,2]"
   ]
  },
  {
   "cell_type": "code",
   "execution_count": 22,
   "id": "64898222",
   "metadata": {},
   "outputs": [
    {
     "data": {
      "text/plain": [
       "'dev'"
      ]
     },
     "execution_count": 22,
     "metadata": {},
     "output_type": "execute_result"
    }
   ],
   "source": [
    "data3.at[0,'job']"
   ]
  },
  {
   "cell_type": "code",
   "execution_count": 25,
   "id": "dac97dd4",
   "metadata": {},
   "outputs": [
    {
     "data": {
      "text/plain": [
       "'kumar'"
      ]
     },
     "execution_count": 25,
     "metadata": {},
     "output_type": "execute_result"
    }
   ],
   "source": [
    "data3.at[2,'ename']"
   ]
  },
  {
   "cell_type": "code",
   "execution_count": null,
   "id": "66ea2b3e",
   "metadata": {},
   "outputs": [],
   "source": []
  }
 ],
 "metadata": {
  "kernelspec": {
   "display_name": "Python 3 (ipykernel)",
   "language": "python",
   "name": "python3"
  },
  "language_info": {
   "codemirror_mode": {
    "name": "ipython",
    "version": 3
   },
   "file_extension": ".py",
   "mimetype": "text/x-python",
   "name": "python",
   "nbconvert_exporter": "python",
   "pygments_lexer": "ipython3",
   "version": "3.11.5"
  }
 },
 "nbformat": 4,
 "nbformat_minor": 5
}
